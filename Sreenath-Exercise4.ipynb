{
 "cells": [
  {
   "cell_type": "markdown",
   "metadata": {},
   "source": [
    "## Homework\n",
    "\n",
    "This week we are going to use a new data set which contains 1070 purchases where the customer either purchased Citrus Hill or Minute Maid Orange Juice. "
   ]
  },
  {
   "cell_type": "code",
   "execution_count": 3,
   "metadata": {
    "collapsed": false
   },
   "outputs": [
    {
     "name": "stdout",
     "output_type": "stream",
     "text": [
      "[0 1 2 ..., 8 9 8]\n",
      "[[  0.   0.   5.  13.   9.   1.   0.   0.]\n",
      " [  0.   0.  13.  15.  10.  15.   5.   0.]\n",
      " [  0.   3.  15.   2.   0.  11.   8.   0.]\n",
      " [  0.   4.  12.   0.   0.   8.   8.   0.]\n",
      " [  0.   5.   8.   0.   0.   9.   8.   0.]\n",
      " [  0.   4.  11.   0.   1.  12.   7.   0.]\n",
      " [  0.   2.  14.   5.  10.  12.   0.   0.]\n",
      " [  0.   0.   6.  13.  10.   0.   0.   0.]]\n"
     ]
    }
   ],
   "source": [
    "from sklearn import datasets\n",
    "digits = datasets.load_digits()\n",
    "#print digits.data\n",
    "print digits.target\n",
    "print digits.images[0]\n"
   ]
  },
  {
   "cell_type": "code",
   "execution_count": 4,
   "metadata": {
    "collapsed": false
   },
   "outputs": [
    {
     "data": {
      "text/html": [
       "<div>\n",
       "<table border=\"1\" class=\"dataframe\">\n",
       "  <thead>\n",
       "    <tr style=\"text-align: right;\">\n",
       "      <th></th>\n",
       "      <th>Purchase</th>\n",
       "      <th>WeekofPurchase</th>\n",
       "      <th>StoreID</th>\n",
       "      <th>PriceCH</th>\n",
       "      <th>PriceMM</th>\n",
       "      <th>DiscCH</th>\n",
       "      <th>DiscMM</th>\n",
       "      <th>SpecialCH</th>\n",
       "      <th>SpecialMM</th>\n",
       "      <th>LoyalCH</th>\n",
       "      <th>SalePriceMM</th>\n",
       "      <th>SalePriceCH</th>\n",
       "      <th>PriceDiff</th>\n",
       "      <th>Store7</th>\n",
       "      <th>PctDiscMM</th>\n",
       "      <th>PctDiscCH</th>\n",
       "      <th>ListPriceDiff</th>\n",
       "      <th>STORE</th>\n",
       "    </tr>\n",
       "  </thead>\n",
       "  <tbody>\n",
       "    <tr>\n",
       "      <th>0</th>\n",
       "      <td>0</td>\n",
       "      <td>237</td>\n",
       "      <td>1</td>\n",
       "      <td>1.75</td>\n",
       "      <td>1.99</td>\n",
       "      <td>0.00</td>\n",
       "      <td>0.0</td>\n",
       "      <td>0</td>\n",
       "      <td>0</td>\n",
       "      <td>0.500000</td>\n",
       "      <td>1.99</td>\n",
       "      <td>1.75</td>\n",
       "      <td>0.24</td>\n",
       "      <td>0</td>\n",
       "      <td>0.000000</td>\n",
       "      <td>0.000000</td>\n",
       "      <td>0.24</td>\n",
       "      <td>1</td>\n",
       "    </tr>\n",
       "    <tr>\n",
       "      <th>1</th>\n",
       "      <td>0</td>\n",
       "      <td>239</td>\n",
       "      <td>1</td>\n",
       "      <td>1.75</td>\n",
       "      <td>1.99</td>\n",
       "      <td>0.00</td>\n",
       "      <td>0.3</td>\n",
       "      <td>0</td>\n",
       "      <td>1</td>\n",
       "      <td>0.600000</td>\n",
       "      <td>1.69</td>\n",
       "      <td>1.75</td>\n",
       "      <td>-0.06</td>\n",
       "      <td>0</td>\n",
       "      <td>0.150754</td>\n",
       "      <td>0.000000</td>\n",
       "      <td>0.24</td>\n",
       "      <td>1</td>\n",
       "    </tr>\n",
       "    <tr>\n",
       "      <th>2</th>\n",
       "      <td>0</td>\n",
       "      <td>245</td>\n",
       "      <td>1</td>\n",
       "      <td>1.86</td>\n",
       "      <td>2.09</td>\n",
       "      <td>0.17</td>\n",
       "      <td>0.0</td>\n",
       "      <td>0</td>\n",
       "      <td>0</td>\n",
       "      <td>0.680000</td>\n",
       "      <td>2.09</td>\n",
       "      <td>1.69</td>\n",
       "      <td>0.40</td>\n",
       "      <td>0</td>\n",
       "      <td>0.000000</td>\n",
       "      <td>0.091398</td>\n",
       "      <td>0.23</td>\n",
       "      <td>1</td>\n",
       "    </tr>\n",
       "    <tr>\n",
       "      <th>3</th>\n",
       "      <td>1</td>\n",
       "      <td>227</td>\n",
       "      <td>1</td>\n",
       "      <td>1.69</td>\n",
       "      <td>1.69</td>\n",
       "      <td>0.00</td>\n",
       "      <td>0.0</td>\n",
       "      <td>0</td>\n",
       "      <td>0</td>\n",
       "      <td>0.400000</td>\n",
       "      <td>1.69</td>\n",
       "      <td>1.69</td>\n",
       "      <td>0.00</td>\n",
       "      <td>0</td>\n",
       "      <td>0.000000</td>\n",
       "      <td>0.000000</td>\n",
       "      <td>0.00</td>\n",
       "      <td>1</td>\n",
       "    </tr>\n",
       "    <tr>\n",
       "      <th>4</th>\n",
       "      <td>0</td>\n",
       "      <td>228</td>\n",
       "      <td>7</td>\n",
       "      <td>1.69</td>\n",
       "      <td>1.69</td>\n",
       "      <td>0.00</td>\n",
       "      <td>0.0</td>\n",
       "      <td>0</td>\n",
       "      <td>0</td>\n",
       "      <td>0.956535</td>\n",
       "      <td>1.69</td>\n",
       "      <td>1.69</td>\n",
       "      <td>0.00</td>\n",
       "      <td>1</td>\n",
       "      <td>0.000000</td>\n",
       "      <td>0.000000</td>\n",
       "      <td>0.00</td>\n",
       "      <td>0</td>\n",
       "    </tr>\n",
       "  </tbody>\n",
       "</table>\n",
       "</div>"
      ],
      "text/plain": [
       "   Purchase  WeekofPurchase  StoreID  PriceCH  PriceMM  DiscCH  DiscMM  \\\n",
       "0         0             237        1     1.75     1.99    0.00     0.0   \n",
       "1         0             239        1     1.75     1.99    0.00     0.3   \n",
       "2         0             245        1     1.86     2.09    0.17     0.0   \n",
       "3         1             227        1     1.69     1.69    0.00     0.0   \n",
       "4         0             228        7     1.69     1.69    0.00     0.0   \n",
       "\n",
       "   SpecialCH  SpecialMM   LoyalCH  SalePriceMM  SalePriceCH  PriceDiff  \\\n",
       "0          0          0  0.500000         1.99         1.75       0.24   \n",
       "1          0          1  0.600000         1.69         1.75      -0.06   \n",
       "2          0          0  0.680000         2.09         1.69       0.40   \n",
       "3          0          0  0.400000         1.69         1.69       0.00   \n",
       "4          0          0  0.956535         1.69         1.69       0.00   \n",
       "\n",
       "   Store7  PctDiscMM  PctDiscCH  ListPriceDiff  STORE  \n",
       "0       0   0.000000   0.000000           0.24      1  \n",
       "1       0   0.150754   0.000000           0.24      1  \n",
       "2       0   0.000000   0.091398           0.23      1  \n",
       "3       0   0.000000   0.000000           0.00      1  \n",
       "4       1   0.000000   0.000000           0.00      0  "
      ]
     },
     "execution_count": 4,
     "metadata": {},
     "output_type": "execute_result"
    }
   ],
   "source": [
    "import pandas as pd\n",
    "oj = pd.read_csv('data/OJ.csv')\n",
    "oj.head()"
   ]
  },
  {
   "cell_type": "code",
   "execution_count": 5,
   "metadata": {
    "collapsed": false
   },
   "outputs": [],
   "source": [
    "oj.data = oj.iloc[:, 1:]\n",
    "oj.target = oj.iloc[:, 0]\n"
   ]
  },
  {
   "cell_type": "markdown",
   "metadata": {},
   "source": [
    "The features and the target variable are already prepared for you. What you are going to do is:\n",
    "\n",
    "**1. Split**\n",
    "\n",
    "Split the data set into two parts: training set and test set(with *random_state=0*, and *test_size=1.0/2*).\n"
   ]
  },
  {
   "cell_type": "code",
   "execution_count": 6,
   "metadata": {
    "collapsed": false
   },
   "outputs": [],
   "source": [
    "### your solution\n",
    "from sklearn import cross_validation as cv\n",
    "train_data, test_data, train_target, test_target = cv.train_test_split(oj.data, oj.target, random_state=0, test_size=1.0/2)\n"
   ]
  },
  {
   "cell_type": "markdown",
   "metadata": {},
   "source": [
    "**2. Support vector machine**\n",
    "\n",
    "(1) Fit a svm model on the training set, report the training error and test error.(Just use the **svm.SVC** with default setting.)\n",
    "    \n",
    "(2) Change the value of parameter $C$ from $10^{-3}$ to $10^3$, make a plot to watch how the training error and test error varies. You can choose the value of $C$ from the array `np.logspace(-3, 3, 300)`."
   ]
  },
  {
   "cell_type": "code",
   "execution_count": 7,
   "metadata": {
    "collapsed": false
   },
   "outputs": [
    {
     "name": "stdout",
     "output_type": "stream",
     "text": [
      "The training error is: 0.22617\n",
      "The test     error is: 0.30280\n",
      "---------------------------------------------------------------------------\n"
     ]
    },
    {
     "name": "stderr",
     "output_type": "stream",
     "text": [
      "C:\\Users\\smadyastha\\AppData\\Local\\Enthought\\Canopy\\User\\lib\\site-packages\\sklearn\\grid_search.py:43: DeprecationWarning: This module was deprecated in version 0.18 in favor of the model_selection module into which all the refactored classes and functions are moved. This module will be removed in 0.20.\n",
      "  DeprecationWarning)\n"
     ]
    },
    {
     "name": "stdout",
     "output_type": "stream",
     "text": [
      "{'C': 45.239562325380582}\n",
      "Populating the interactive namespace from numpy and matplotlib\n"
     ]
    },
    {
     "data": {
      "image/png": "[encoded data removed]",
      "text/plain": [
       "<matplotlib.figure.Figure at 0xad509e8>"
      ]
     },
     "metadata": {},
     "output_type": "display_data"
    }
   ],
   "source": [
    "### your solution\n",
    "\n",
    "def get_error(x_train, y_train, x_test, y_test, model, show = True):\n",
    "    model.fit(x_train, y_train)\n",
    "    train_error = 1 - model.score(x_train, y_train)\n",
    "    test_error = 1 - model.score(x_test, y_test)\n",
    "    if show:\n",
    "        print \"The training error is: %.5f\" %train_error \n",
    "        print \"The test     error is: %.5f\" %test_error\n",
    "    return [train_error, test_error]\n",
    "\n",
    "# (1)\n",
    "from sklearn import svm\n",
    "svm_model = svm.SVC()\n",
    "get_error(train_data, train_target, test_data, test_target, svm_model)\n",
    "\n",
    "print '-'*75\n",
    "\n",
    "#(2)\n",
    "import numpy as np\n",
    "C = np.logspace(-3, 3, 300)\n",
    "svm_train = []\n",
    "svm_test = []\n",
    "for i in C:\n",
    "    svm_model.set_params(C = i)\n",
    "    error = get_error(train_data, train_target, test_data, test_target, svm_model, show=False)\n",
    "    svm_train.append(error[0])\n",
    "    svm_test.append(error[1])\n",
    "\n",
    "    \n",
    "# >>>>>>> Let's use grid_search and compare the result <<<<<<<<<<<<    \n",
    "from sklearn import grid_search as gs\n",
    "grid_para_svm = {'C': np.logspace(-3, 3, 300)}\n",
    "grid_search_svm = gs.GridSearchCV(svm_model, grid_para_svm)\n",
    "grid_search_svm.fit(train_data, train_target)\n",
    "print grid_search_svm.best_params_\n",
    "scores = np.array([1- scores.mean_validation_score for scores in grid_search_svm.grid_scores_])\n",
    "#####################################################################    \n",
    "\n",
    "%pylab inline\n",
    "import matplotlib.pyplot as pl\n",
    "pl.plot(np.log10(C), svm_train, c = 'blue', label='training error')\n",
    "pl.plot(np.log10(C), svm_test, c = 'red', label='test error')\n",
    "pl.plot(np.log10(C), scores, c='green', label='cv error')\n",
    "pl.legend()\n",
    "pl.xlabel('$\\log_{10}(C)$')\n",
    "pl.show()"
   ]
  },
  {
   "cell_type": "markdown",
   "metadata": {},
   "source": [
    "**3. Decision tree**\n",
    "\n",
    "(1) Fit a decision tree model on the training set with the default setting.\n",
    "    \n",
    "(2) Set the depth of the tree from 1 to 30. Look the varies of the training error and test error.\n",
    "    \n",
    "(3) Use the function **grid_search.GridSearchCV** to find the best parameters. What's the best parameters? What's the best score? What's the training error and test error of the best model. The possible combination of the parameters may be:"
   ]
  },
  {
   "cell_type": "code",
   "execution_count": 8,
   "metadata": {
    "collapsed": true
   },
   "outputs": [],
   "source": [
    "grid_para_tree = {'criterion': ['gini', 'entropy'], 'max_depth': range(1, 31)}"
   ]
  },
  {
   "cell_type": "markdown",
   "metadata": {},
   "source": [
    "(4) What are the first 5 important features?"
   ]
  },
  {
   "cell_type": "code",
   "execution_count": 9,
   "metadata": {
    "collapsed": false
   },
   "outputs": [
    {
     "name": "stdout",
     "output_type": "stream",
     "text": [
      "The training error is: 0.00748\n",
      "The test     error is: 0.22430\n"
     ]
    },
    {
     "data": {
      "text/plain": [
       "[0.0074766355140186702, 0.22429906542056077]"
      ]
     },
     "execution_count": 9,
     "metadata": {},
     "output_type": "execute_result"
    }
   ],
   "source": [
    "### your solution\n",
    "\n",
    "from sklearn import tree\n",
    "tree_model = tree.DecisionTreeClassifier()\n",
    "get_error(train_data, train_target, test_data, test_target, tree_model)"
   ]
  },
  {
   "cell_type": "code",
   "execution_count": 10,
   "metadata": {
    "collapsed": false
   },
   "outputs": [
    {
     "name": "stdout",
     "output_type": "stream",
     "text": [
      "Populating the interactive namespace from numpy and matplotlib\n"
     ]
    },
    {
     "data": {
      "image/png": "[encoded data removed]",
      "text/plain": [
       "<matplotlib.figure.Figure at 0x8d23eb8>"
      ]
     },
     "metadata": {},
     "output_type": "display_data"
    }
   ],
   "source": [
    "# (2)\n",
    "depth  = range(1, 30)\n",
    "tree_train = []\n",
    "tree_test = []\n",
    "for i in depth:\n",
    "    tree_model.set_params(max_depth = i)\n",
    "    error = get_error(train_data, train_target, test_data, test_target, tree_model, show=False)\n",
    "    tree_train.append(error[0])\n",
    "    tree_test.append(error[1])\n",
    "\n",
    "%pylab inline\n",
    "import matplotlib.pyplot as pl\n",
    "pl.plot(depth, tree_train, c = 'blue', label='training error')\n",
    "pl.plot(depth, tree_test, c = 'red', label='test error')\n",
    "pl.legend(loc=7)\n",
    "pl.xlabel('depth')\n",
    "pl.show()\n",
    "\n",
    "# The plot below indicates depth = 5 results in the lowest test error"
   ]
  },
  {
   "cell_type": "code",
   "execution_count": 11,
   "metadata": {
    "collapsed": false
   },
   "outputs": [
    {
     "name": "stdout",
     "output_type": "stream",
     "text": [
      "The best score is 0.8150\n",
      "The training error is 0.1757\n",
      "The testing error is 0.2206\n"
     ]
    }
   ],
   "source": [
    "import sklearn.grid_search as gs \n",
    "\n",
    "grid_para_tree = {'criterion': ['gini', 'entropy'], 'max_depth': range(1, 31)}\n",
    "grid_search_tree = gs.GridSearchCV(tree_model, grid_para_tree, cv=5, scoring='accuracy').fit(train_data, train_target)\n",
    "print 'The best score is %.4f' %grid_search_tree.best_score_\n",
    "print 'The training error is %.4f' %(1 - grid_search_tree.best_estimator_.score(train_data, train_target))\n",
    "print 'The testing error is %.4f' %(1 - grid_search_tree.best_estimator_.score(test_data, test_target))"
   ]
  },
  {
   "cell_type": "code",
   "execution_count": 12,
   "metadata": {
    "collapsed": false
   },
   "outputs": [
    {
     "data": {
      "text/plain": [
       "array([('LoyalCH', 0.7994058166234773), ('PriceDiff', 0.1146968210189287),\n",
       "       ('SalePriceC', 0.03351325593979553),\n",
       "       ('SpecialCH', 0.02832348525941605),\n",
       "       ('WeekofPurc', 0.024060621158382475), ('StoreID', 0.0),\n",
       "       ('Store7', 0.0), ('SpecialMM', 0.0), ('SalePriceM', 0.0),\n",
       "       ('STORE', 0.0), ('PriceMM', 0.0), ('PriceCH', 0.0),\n",
       "       ('PctDiscMM', 0.0), ('PctDiscCH', 0.0), ('ListPriceD', 0.0),\n",
       "       ('DiscMM', 0.0), ('DiscCH', 0.0)], \n",
       "      dtype=[('feature', 'S10'), ('importance', '<f8')])"
      ]
     },
     "execution_count": 12,
     "metadata": {},
     "output_type": "execute_result"
    }
   ],
   "source": [
    "tree_final = grid_search_tree.best_estimator_\n",
    "feature_imprtance = zip(oj.columns[1:], tree_final.feature_importances_)\n",
    "dtype = [('feature', 'S10'), ('importance', 'float')]\n",
    "feature_imprtance = np.array(feature_imprtance, dtype = dtype)\n",
    "feature_sort = np.sort(feature_imprtance, order='importance')[::-1]\n",
    "feature_sort"
   ]
  },
  {
   "cell_type": "markdown",
   "metadata": {},
   "source": [
    "**4. Random Forest.**\n",
    "\n",
    "(1) Fit a random forest on the training set. Report the training error and test error.\n",
    "    \n",
    "(2) Use the function **grid_search.GridSearchCV** to find the best parameters. What's the best parameters? What's the best score? What's the training error and test error of the best model. The possible combination of the parameters may be:"
   ]
  },
  {
   "cell_type": "code",
   "execution_count": null,
   "metadata": {
    "collapsed": true
   },
   "outputs": [],
   "source": [
    "grid_para_forest = {'criterion': ['gini', 'entropy'], 'max_depth': range(1, 31), \"n_estimators\": range(10, 110, 10)}"
   ]
  },
  {
   "cell_type": "markdown",
   "metadata": {},
   "source": [
    "(3) What's the first 5 important features?"
   ]
  },
  {
   "cell_type": "code",
   "execution_count": 13,
   "metadata": {
    "collapsed": false
   },
   "outputs": [
    {
     "name": "stdout",
     "output_type": "stream",
     "text": [
      "The training error is: 0.02991\n",
      "The test     error is: 0.21308\n"
     ]
    },
    {
     "data": {
      "text/plain": [
       "[0.029906542056074792, 0.21308411214953271]"
      ]
     },
     "execution_count": 13,
     "metadata": {},
     "output_type": "execute_result"
    }
   ],
   "source": [
    "### your solution\n",
    "\n",
    "from sklearn import ensemble\n",
    "randomForest = ensemble.RandomForestClassifier()\n",
    "get_error(train_data, train_target, test_data, test_target, randomForest)"
   ]
  },
  {
   "cell_type": "code",
   "execution_count": null,
   "metadata": {
    "collapsed": true
   },
   "outputs": [],
   "source": [
    "grid_para_forest = {'criterion': ['gini', 'entropy'], 'max_depth': range(1, 31), \"n_estimators\": range(10, 110, 10)}\n",
    "grid_search_forest = gs.GridSearchCV(randomForest, grid_para_forest, cv=5, scoring='accuracy').fit(train_data, train_target)\n",
    "\n",
    "print 'The best score is %.4f' %grid_search_forest.best_score_\n",
    "print 'The best parameters are %s' %grid_search_forest.best_params_\n",
    "print 'The training error is %.4f' %(1 - grid_search_forest.best_estimator_.score(train_data, train_target))\n",
    "print 'The testing error is %.4f' %(1 - grid_search_forest.best_estimator_.score(test_data, test_target))"
   ]
  },
  {
   "cell_type": "code",
   "execution_count": null,
   "metadata": {
    "collapsed": true
   },
   "outputs": [],
   "source": [
    "forest_final = grid_search_forest.best_estimator_\n",
    "feature_imprtance = zip(oj.columns[1:], forest_final.feature_importances_)\n",
    "dtype = [('feature', 'S10'), ('importance', 'float')]\n",
    "feature_imprtance = np.array(feature_imprtance, dtype = dtype)\n",
    "feature_sort = np.sort(feature_imprtance, order='importance')[::-1]\n",
    "feature_sort"
   ]
  }
 ],
 "metadata": {
  "kernelspec": {
   "display_name": "Python 2",
   "language": "python",
   "name": "python2"
  },
  "language_info": {
   "codemirror_mode": {
    "name": "ipython",
    "version": 2
   },
   "file_extension": ".py",
   "mimetype": "text/x-python",
   "name": "python",
   "nbconvert_exporter": "python",
   "pygments_lexer": "ipython2",
   "version": "2.7.11"
  }
 },
 "nbformat": 4,
 "nbformat_minor": 0
}
