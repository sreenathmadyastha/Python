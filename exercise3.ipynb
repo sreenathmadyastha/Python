{
 "cells": [
  {
   "cell_type": "markdown",
   "metadata": {},
   "source": [
    "## Homework\n",
    "This time we employ the cross validation to figure out the best model for spam filter.\n",
    "\n",
    "**Remark** The objective functions for logistic regression implemented in `sklearn` are:\n",
    "<img src=\"L1.png\">\n",
    "and\n",
    "<img src=\"L2.png\">\n",
    "\n",
    "where\n",
    "- $w \\text{ is the coefficients, which was denoted by } \\beta_i \\text{ in the class.}$\n",
    "- $c \\text{ is the intercept, which was denoted by } \\beta_0 \\text{ in the class. We can change the parameter } \\\\ \\text{\"fit_intercept\" to keep or remove it.}$\n",
    "- $C \\text{ is the Inverse of regularization strength. This is opposite to the }\\alpha \\text{we used in Ridge and Lasso,}\\\\ \\text{smaller values specify stronger regularization.}$\n",
    "- Therefore the first objective function is of $L_1$ panelty and the second of $L_2$.\n",
    "\n",
    "\n",
    "1. Use the function **GridSearchCV** to find out the best combination of parameter for logistic regression.( Set *cv=5* and *scoring = 'accuracy'*). "
   ]
  },
  {
   "cell_type": "code",
   "execution_count": 1,
   "metadata": {
    "collapsed": false
   },
   "outputs": [],
   "source": [
    "import numpy as np\n",
    "para_grid = [{'penalty': ['l1', 'l2'], 'fit_intercept': [False, True], \n",
    "              'C':np.logspace(-5, 5, 100)}]"
   ]
  },
  {
   "cell_type": "markdown",
   "metadata": {},
   "source": [
    "    - What's the best combination?\n",
    "    - What's the best score?\n",
    "    - Refit the best estimator on the whole data set. How many coefficients are shrinked to 0?(Hint: the absolute value of coefficients that are smaller than 1e-4.) \n",
    "    - What's the corresponding training error and test error? (Training error is the model performance on spam_train, while test error is the performance on spam_test.)"
   ]
  },
  {
   "cell_type": "code",
   "execution_count": null,
   "metadata": {
    "collapsed": true
   },
   "outputs": [],
   "source": [
    "### your solution"
   ]
  },
  {
   "cell_type": "markdown",
   "metadata": {},
   "source": [
    "2.Set *scoring = 'roc_auc'* and search again, what's the best parameters? Fit the best estimator on the spam_train data set. What's the training error and test error?"
   ]
  },
  {
   "cell_type": "code",
   "execution_count": null,
   "metadata": {
    "collapsed": true
   },
   "outputs": [],
   "source": [
    "### your solution"
   ]
  },
  {
   "cell_type": "markdown",
   "metadata": {},
   "source": [
    "3.In this exercise, we will predict the number of applications received(*Apps*) using the other variables in the College data set.\n",
    "\n",
    "The features and the target variable are prepared as $x$ and $y$."
   ]
  },
  {
   "cell_type": "code",
   "execution_count": null,
   "metadata": {
    "collapsed": true
   },
   "outputs": [],
   "source": [
    "import pandas as pd\n",
    "college = pd.read_csv('data/college.csv')\n",
    "x = college.iloc[:, 2:]\n",
    "y = college.iloc[:, 1]\n",
    "college.head()"
   ]
  },
  {
   "cell_type": "markdown",
   "metadata": {},
   "source": [
    "- (1) Split this data into a training set and a test set with train_size=0.5.(Hint: Use the function **sklearn.cross_validation.train_test_split** , set *random_state=0* and *tran_size=0.5*.)\n",
    "\n",
    "- (2) Fit a linear model on the training set and report the training error and test error(mean squared error, you can use the function *sklearn.metrics.mean_squared_error*).\n",
    "\n",
    "- (3) Fit a ridge regression on the training set, with $\\alpha$ chosen by the cross validation. Report the training error and test error.\n",
    "\n",
    "- (4) Fit a lasso on the training set, with $\\alpha$ chosen by the cross validation. Report the training error and test error\n",
    "\n",
    "- (5) Compare the results obtained, what do you find?"
   ]
  },
  {
   "cell_type": "code",
   "execution_count": null,
   "metadata": {
    "collapsed": true
   },
   "outputs": [],
   "source": [
    "### your solution"
   ]
  },
  {
   "cell_type": "markdown",
   "metadata": {},
   "source": [
    "(Optional) 4.This time  we will try to predict the variable *Private* using the other variables in the College data set. The features and target variable are prepared for you."
   ]
  },
  {
   "cell_type": "code",
   "execution_count": null,
   "metadata": {
    "collapsed": true
   },
   "outputs": [],
   "source": [
    "x = college.iloc[:, 1:]\n",
    "y = college.iloc[:, 0]"
   ]
  },
  {
   "cell_type": "markdown",
   "metadata": {},
   "source": [
    "- (1) Split this data into a training set and a test set with train_size=0.5(Hint: Use the function **sklearn.cross_validation.train_test_split** , set *random_state=1* and *tran_size=0.5*.)]\n",
    "\n",
    "- (2) Fit a logistic regression with regularizaton. Use the function **GridSearchCV** to fint out the best parameters."
   ]
  },
  {
   "cell_type": "code",
   "execution_count": null,
   "metadata": {
    "collapsed": true
   },
   "outputs": [],
   "source": [
    "grid_para_logit = [{'penality': ['l1', 'l2'], 'alpha': np.logspace(-5, 5, 100)}]"
   ]
  },
  {
   "cell_type": "markdown",
   "metadata": {},
   "source": [
    "    - What's the best parameters?\n",
    "    - Refit the model on the training set with best parameters. What's the training error and test error?\n",
    "    \n",
    "- (3) Fit a KNN model. Use the function **GridSearchCV** to fint out the appropriate parameter *n_neighbors*. Refit the model on the training set and report the training error and test error.\n",
    "\n",
    "- (4) Compare the results of logistic regression and KNN."
   ]
  },
  {
   "cell_type": "code",
   "execution_count": null,
   "metadata": {
    "collapsed": true
   },
   "outputs": [],
   "source": [
    "### your solution"
   ]
  }
 ],
 "metadata": {
  "kernelspec": {
   "display_name": "Python 2",
   "language": "python",
   "name": "python2"
  },
  "language_info": {
   "codemirror_mode": {
    "name": "ipython",
    "version": 2
   },
   "file_extension": ".py",
   "mimetype": "text/x-python",
   "name": "python",
   "nbconvert_exporter": "python",
   "pygments_lexer": "ipython2",
   "version": "2.7.11"
  }
 },
 "nbformat": 4,
 "nbformat_minor": 0
}
